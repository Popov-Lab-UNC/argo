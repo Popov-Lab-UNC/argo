{
 "cells": [
  {
   "cell_type": "code",
   "execution_count": 1,
   "id": "a8771af2",
   "metadata": {},
   "outputs": [
    {
     "name": "stderr",
     "output_type": "stream",
     "text": [
      "/nas/longleaf/home/shuhang/miniconda3/envs/f-rag/lib/python3.10/site-packages/tqdm/auto.py:21: TqdmWarning: IProgress not found. Please update jupyter and ipywidgets. See https://ipywidgets.readthedocs.io/en/stable/user_install.html\n",
      "  from .autonotebook import tqdm as notebook_tqdm\n"
     ]
    }
   ],
   "source": [
    "import re\n",
    "from safe import SAFEConverter\n",
    "import datamol as dm\n",
    "from rdkit import Chem\n",
    "from typing import Callable, List, Optional, Union"
   ]
  },
  {
   "cell_type": "code",
   "execution_count": 2,
   "id": "cfe2c2d9",
   "metadata": {},
   "outputs": [],
   "source": [
    "from argo.gen_models.f_rag.fusion.slicer import MolSlicer,MolSlicerForSAFEEncoder"
   ]
  },
  {
   "cell_type": "code",
   "execution_count": null,
   "id": "f6f5d770",
   "metadata": {},
   "outputs": [],
   "source": [
    "import random\n",
    "\n",
    "class SAFECodec:\n",
    "    def __init__(self, \n",
    "                 slicer: Optional[Union[List[str], str, Callable]] = None, \n",
    "                 require_hs: Optional[bool] = False, \n",
    "                 ignore_stereo: bool = False\n",
    "    ):\n",
    "        \"\"\"\n",
    "        SAFE processor with encoder/decoder instances\n",
    "        \n",
    "        Args:\n",
    "            slicer: Slicing algorithm for encoding, defaults to \"brics\"\n",
    "                Supported slicers: [\"hr\", \"rotatable\", \"recap\", \"mmpa\", \"attach\", \"brics\"]\n",
    "                Also custom slicers that return pairs of atom numbers\n",
    "            require_hs (bool): whether the slicing algorithm require the molecule to have hydrogen explictly added\n",
    "            ignore_stereo (bool): whether to remove stereochemistry before fragmenting\n",
    "        \"\"\"\n",
    "        # Encoder converter with custom parameters\n",
    "        self.encoder_conv = SAFEConverter(\n",
    "            slicer=slicer,\n",
    "            require_hs=require_hs,\n",
    "            ignore_stereo=ignore_stereo\n",
    "        )\n",
    "        \n",
    "        # Decoder converter using default params\n",
    "        self.decoder_conv = SAFEConverter()\n",
    "\n",
    "    def encode(self, inp: Union[str, dm.Mol], canonical=True):\n",
    "        \"\"\"Convert SMILES/molecule to SAFE string\"\"\"\n",
    "        try:\n",
    "            return self.encoder_conv.encoder(inp, canonical=canonical)\n",
    "        except Exception as e:\n",
    "            print(f\"Unable to encode: {e}.\")\n",
    "            return None\n",
    "        \n",
    "    def encode_fragment(self, inp: Union[str, dm.Mol]):\n",
    "        \"\"\"Encode a fragment molecule to SAFE-formatted SMILES\"\"\"\n",
    "        if isinstance(inp, str):\n",
    "            inp = dm.to_mol(inp)\n",
    "\n",
    "        if inp is None:\n",
    "            return None\n",
    "        \n",
    "        if not isinstance(inp, dm.Mol):\n",
    "            raise ValueError(\"Input must be a SMILES string or a RDKit molecule\")\n",
    "        \n",
    "        non_map_atom_idxs = [\n",
    "            atom.GetIdx() for atom in inp.GetAtoms() if atom.GetAtomicNum() != 0\n",
    "        ]\n",
    "\n",
    "        inp_smiles = Chem.MolToSmiles(\n",
    "            inp,\n",
    "            isomericSmiles=True,\n",
    "            canonical=True,  # needs to always be true\n",
    "            rootedAtAtom=non_map_atom_idxs[0],\n",
    "        )\n",
    "\n",
    "        # Remove any exit vector numbering\n",
    "        #inp_smiles = self._canonicalize_frag(inp_smiles)\n",
    "\n",
    "        attach_pos = set(re.findall(r\"(\\[\\d+\\*\\]|!\\[[^:]*:\\d+\\])\", inp_smiles))\n",
    "        for attach in attach_pos:\n",
    "            inp_smiles = inp_smiles.replace(attach, '*')\n",
    "\n",
    "        return inp_smiles # return SAFE-formatted SMILES for fragment\n",
    "    \n",
    "    def _canonicalize_frag(self, inp: Union[str, dm.Mol]):\n",
    "        \"\"\"Canonicalize a fragment molecule SMILES\"\"\"\n",
    "        if isinstance(inp, dm.Mol):\n",
    "            inp = dm.to_smiles(inp)\n",
    "        if inp is None:\n",
    "            return None\n",
    "        return re.sub(r'\\[\\*:\\d+\\]', '*', inp)\n",
    "    \n",
    "    def decode(self, \n",
    "               inp: str, \n",
    "               as_mol=False,\n",
    "               canonical=False,\n",
    "               fix=True,\n",
    "               remove_dummies=False,\n",
    "               remove_added_hs=True\n",
    "    ):\n",
    "        \"\"\"Convert SAFE string to SMILES\"\"\"\n",
    "        try:\n",
    "            return self.decoder_conv.decoder(inp, \n",
    "                                             as_mol=as_mol, \n",
    "                                             canonical=canonical, \n",
    "                                             fix=fix, \n",
    "                                             remove_dummies=remove_dummies, \n",
    "                                             remove_added_hs=remove_added_hs\n",
    "            )\n",
    "        except Exception as e:\n",
    "            print(f'Decoding failed: {e}')\n",
    "            return None\n",
    "        \n",
    "    def link_fragments(self, frag1: str, frag2: str):\n",
    "        \"\"\"Link two fragments SMILES together, randomly selecting a position to link\"\"\"\n",
    "        frag1_sf = self.encode_fragment(frag1)\n",
    "        frag2_sf = self.encode_fragment(frag2)\n",
    "        \n",
    "        frag1_sf_canon = self._canonicalize_frag(frag1_sf)\n",
    "        frag2_sf_canon = self._canonicalize_frag(frag2_sf)\n",
    "\n",
    "        # Randomly select a * in frag1_sf_canon and frag2_sf_canon\n",
    "        # Find all * positions in each fragment\n",
    "        single_bond_pattern = r'(?<!\\=)\\(\\*\\)|(?<!\\=)\\(\\[\\*\\]\\)|(?<!\\=)\\*'  # Matches single-bonded exit vectors, ignoring (=*) and =*\n",
    "        #double_bond_pattern = r'=\\*|\\(=\\*\\)'  # Matches both =* and (=*)\n",
    "        \n",
    "        # Count stars to check if linking is possible\n",
    "        if not re.search(single_bond_pattern, frag1_sf_canon) or not re.search(single_bond_pattern, frag2_sf_canon):\n",
    "            return None\n",
    "            \n",
    "        # Replace one random * with %99 in each fragment\n",
    "        # Find all positions of single bond exit vectors\n",
    "        frag1_stars = [m.start() for m in re.finditer(single_bond_pattern, frag1_sf_canon)]\n",
    "        frag2_stars = [m.start() for m in re.finditer(single_bond_pattern, frag2_sf_canon)]\n",
    "        \n",
    "        # Randomly select one position from each fragment\n",
    "        frag1_pos = random.choice(frag1_stars)\n",
    "        frag2_pos = random.choice(frag2_stars)\n",
    "        \n",
    "        # Replace the randomly selected positions with %99\n",
    "        frag1_sf_canon = frag1_sf_canon[:frag1_pos] + '%99' + frag1_sf_canon[frag1_pos + len(re.match(single_bond_pattern, frag1_sf_canon[frag1_pos:]).group()):]\n",
    "        frag2_sf_canon = frag2_sf_canon[:frag2_pos] + '%99' + frag2_sf_canon[frag2_pos + len(re.match(single_bond_pattern, frag2_sf_canon[frag2_pos:]).group()):]\n",
    "\n",
    "        return self.decode(frag1_sf_canon + '.' + frag2_sf_canon, remove_dummies=False)\n",
    "        \n",
    "    '''\n",
    "    def get_rings_from_safe(self, safe_str: str):\n",
    "        \"\"\"Get the substrings of SAFE strings that are rings in a list\"\"\"\n",
    "        rings = []\n",
    "        for safe_substr in safe_str.split('.'):\n",
    "            decoded_smiles = self.decode(safe_substr)\n",
    "            if decoded_smiles:\n",
    "                frag = Chem.MolFromSmiles(decoded_smiles)\n",
    "                if frag and any(atom.IsInRing() for atom in frag.GetAtoms()):\n",
    "                    rings.append(safe_substr)  # Append the original SAFE substring\n",
    "\n",
    "        return rings\n",
    "    '''"
   ]
  },
  {
   "cell_type": "code",
   "execution_count": 72,
   "id": "7f26394b",
   "metadata": {},
   "outputs": [],
   "source": [
    "slicer = MolSlicerForSAFEEncoder(shortest_linker=True)\n",
    "sfcodec = SAFECodec(slicer=slicer, ignore_stereo=True)"
   ]
  },
  {
   "cell_type": "code",
   "execution_count": 93,
   "id": "1117a37f",
   "metadata": {},
   "outputs": [],
   "source": [
    "smiles = 'Cc1cc(C)cc(OCC2CNC(=O)O2)c1'"
   ]
  },
  {
   "cell_type": "code",
   "execution_count": 94,
   "id": "0ce1180d",
   "metadata": {},
   "outputs": [
    {
     "data": {
      "text/plain": [
       "'Cc1cc3cc(C)c1.C14CNC(=O)O1.O3C4'"
      ]
     },
     "execution_count": 94,
     "metadata": {},
     "output_type": "execute_result"
    }
   ],
   "source": [
    "sfcodec.encode(smiles)"
   ]
  },
  {
   "cell_type": "code",
   "execution_count": 95,
   "id": "b5ec15f3",
   "metadata": {},
   "outputs": [
    {
     "data": {
      "text/plain": [
       "'Cc1cc([*:3])cc(C)c1'"
      ]
     },
     "execution_count": 95,
     "metadata": {},
     "output_type": "execute_result"
    }
   ],
   "source": [
    "sfcodec.decode('Cc1cc3cc(C)c1')"
   ]
  },
  {
   "cell_type": "code",
   "execution_count": 76,
   "id": "952fec16",
   "metadata": {},
   "outputs": [
    {
     "data": {
      "text/plain": [
       "'c1([*:2])c(C)cccc1C'"
      ]
     },
     "execution_count": 76,
     "metadata": {},
     "output_type": "execute_result"
    }
   ],
   "source": [
    "sfcodec.decode('c12c(C)cccc1C', remove_dummies=False)"
   ]
  },
  {
   "cell_type": "code",
   "execution_count": 77,
   "id": "850ea846",
   "metadata": {},
   "outputs": [
    {
     "data": {
      "text/plain": [
       "'c1(*)c(C)cccc1C'"
      ]
     },
     "execution_count": 77,
     "metadata": {},
     "output_type": "execute_result"
    }
   ],
   "source": [
    "sfcodec.encode_fragment('c1([*])c(C)cccc1C')"
   ]
  },
  {
   "cell_type": "code",
   "execution_count": 78,
   "id": "f38bf6be",
   "metadata": {},
   "outputs": [
    {
     "data": {
      "text/plain": [
       "'O=C(O)CCCCN(CC[*:3])Cc1ccc(C(=O)O)cc1'"
      ]
     },
     "execution_count": 78,
     "metadata": {},
     "output_type": "execute_result"
    }
   ],
   "source": [
    "sfcodec.decode('O=C(O)CCCCN(CC3)Cc1ccc(C(=O)O)cc1')"
   ]
  },
  {
   "cell_type": "code",
   "execution_count": 79,
   "id": "000fbb9f",
   "metadata": {},
   "outputs": [
    {
     "data": {
      "text/plain": [
       "'O=C(O)CCCCN(CC*)Cc1ccc(C(=O)O)cc1'"
      ]
     },
     "execution_count": 79,
     "metadata": {},
     "output_type": "execute_result"
    }
   ],
   "source": [
    "sfcodec.encode_fragment('O=C(O)CCCCN(CC[*])Cc1ccc(C(=O)O)cc1')"
   ]
  },
  {
   "cell_type": "code",
   "execution_count": 80,
   "id": "62c61b00",
   "metadata": {},
   "outputs": [
    {
     "data": {
      "text/plain": [
       "'O=C(O)CCCCN(CCc1c(C)cccc1C)Cc1ccc(C(=O)O)cc1'"
      ]
     },
     "execution_count": 80,
     "metadata": {},
     "output_type": "execute_result"
    }
   ],
   "source": [
    "sfcodec.link_fragments(\"O=C(O)CCCCN(CC[*:3])Cc1ccc(C(=O)O)cc1\", \"c1([*])c(C)cccc1C\")"
   ]
  },
  {
   "cell_type": "code",
   "execution_count": 90,
   "id": "b7418286",
   "metadata": {},
   "outputs": [
    {
     "data": {
      "text/plain": [
       "'Cc1csc(=Nn2c(=NCCC#C)scc2*)n1*'"
      ]
     },
     "execution_count": 90,
     "metadata": {},
     "output_type": "execute_result"
    }
   ],
   "source": [
    "sfcodec.link_fragments(\"Cc1csc(=N[*])n1[*]\", \"C#CCCN=c1scc([*])n1[*]\") # random"
   ]
  },
  {
   "cell_type": "code",
   "execution_count": 92,
   "id": "db59ebc2",
   "metadata": {},
   "outputs": [
    {
     "data": {
      "image/png": "[encoded data removed]",
      "text/plain": [
       "<rdkit.Chem.rdchem.Mol at 0x7ff6a59dcdd0>"
      ]
     },
     "execution_count": 92,
     "metadata": {},
     "output_type": "execute_result"
    }
   ],
   "source": [
    "Chem.MolFromSmiles('Cc1csc(=Nn2c(=NCCC#C)scc2*)n1*')"
   ]
  },
  {
   "cell_type": "code",
   "execution_count": 89,
   "id": "c9470bff",
   "metadata": {},
   "outputs": [
    {
     "data": {
      "image/png": "[encoded data removed]",
      "text/plain": [
       "<rdkit.Chem.rdchem.Mol at 0x7ff6a59dc970>"
      ]
     },
     "execution_count": 89,
     "metadata": {},
     "output_type": "execute_result"
    }
   ],
   "source": [
    "Chem.MolFromSmiles('C#CCCN=c1scc(*)n1-c1c(C)cccc1C')"
   ]
  },
  {
   "cell_type": "code",
   "execution_count": null,
   "id": "4bd90cc5",
   "metadata": {},
   "outputs": [],
   "source": []
  }
 ],
 "metadata": {
  "kernelspec": {
   "display_name": "f-rag",
   "language": "python",
   "name": "python3"
  },
  "language_info": {
   "codemirror_mode": {
    "name": "ipython",
    "version": 3
   },
   "file_extension": ".py",
   "mimetype": "text/x-python",
   "name": "python",
   "nbconvert_exporter": "python",
   "pygments_lexer": "ipython3",
   "version": "3.10.18"
  }
 },
 "nbformat": 4,
 "nbformat_minor": 5
}
